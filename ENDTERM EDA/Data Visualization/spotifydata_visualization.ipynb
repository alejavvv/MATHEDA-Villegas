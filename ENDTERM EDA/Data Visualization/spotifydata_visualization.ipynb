{
 "cells": [
  {
   "cell_type": "markdown",
   "metadata": {},
   "source": [
    "# ENDTERM Data Visualization <hr style=\"border:2.5px solid #126782\"></hr>"
   ]
  },
  {
   "cell_type": "markdown",
   "metadata": {},
   "source": [
    "Name: **Aleja Villegas** <br>\n",
    "Course: **CPE2A**"
   ]
  },
  {
   "cell_type": "code",
   "execution_count": 2,
   "metadata": {},
   "outputs": [],
   "source": [
    "import pandas as pd\n",
    "import numpy as np\n",
    "import matplotlib.pyplot as plt"
   ]
  },
  {
   "cell_type": "code",
   "execution_count": 3,
   "metadata": {},
   "outputs": [
    {
     "name": "stdout",
     "output_type": "stream",
     "text": [
      "<class 'pandas.core.frame.DataFrame'>\n",
      "RangeIndex: 10131 entries, 0 to 10130\n",
      "Data columns (total 21 columns):\n",
      " #   Column            Non-Null Count  Dtype  \n",
      "---  ------            --------------  -----  \n",
      " 0   Danceability      10131 non-null  float64\n",
      " 1   Energy            10131 non-null  float64\n",
      " 2   Key               10131 non-null  float64\n",
      " 3   Loudness          10131 non-null  float64\n",
      " 4   Mode              10131 non-null  float64\n",
      " 5   Speechiness       10131 non-null  float64\n",
      " 6   Acousticness      10131 non-null  float64\n",
      " 7   Instrumentalness  10131 non-null  float64\n",
      " 8   Liveness          10131 non-null  float64\n",
      " 9   Valence           10131 non-null  float64\n",
      " 10  Tempo             10131 non-null  float64\n",
      " 11  Type              10130 non-null  object \n",
      " 12  id                10130 non-null  object \n",
      " 13  uri               10130 non-null  object \n",
      " 14  track_href        10130 non-null  object \n",
      " 15  analysis_url      10130 non-null  object \n",
      " 16  Duration (ms)     10131 non-null  float64\n",
      " 17  Time Signature    10131 non-null  float64\n",
      " 18  Song              10130 non-null  object \n",
      " 19  Artist            10104 non-null  object \n",
      " 20  Genre             10130 non-null  object \n",
      "dtypes: float64(13), object(8)\n",
      "memory usage: 1.6+ MB\n"
     ]
    }
   ],
   "source": [
    "df = pd.read_csv(r\"..\\raw\\spotifydata-cleaned.csv\", delimiter = \",\")\n",
    "df.info()"
   ]
  }
 ],
 "metadata": {
  "kernelspec": {
   "display_name": "Python 3",
   "language": "python",
   "name": "python3"
  },
  "language_info": {
   "codemirror_mode": {
    "name": "ipython",
    "version": 3
   },
   "file_extension": ".py",
   "mimetype": "text/x-python",
   "name": "python",
   "nbconvert_exporter": "python",
   "pygments_lexer": "ipython3",
   "version": "3.13.2"
  }
 },
 "nbformat": 4,
 "nbformat_minor": 2
}
