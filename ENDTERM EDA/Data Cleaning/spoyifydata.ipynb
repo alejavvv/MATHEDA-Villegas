{
 "cells": [
  {
   "cell_type": "markdown",
   "metadata": {},
   "source": [
    "# ENDTERM EDA <hr style= \"border:2.5px solid #126782\"></hr>"
   ]
  },
  {
   "cell_type": "markdown",
   "metadata": {},
   "source": [
    "Name: **Aleja Villegas** <br>\n",
    "Course: **CPE2A**"
   ]
  },
  {
   "cell_type": "markdown",
   "metadata": {},
   "source": [
    "Import **pandas**,**numpy** and **matplotlib** library"
   ]
  },
  {
   "cell_type": "code",
   "execution_count": 1,
   "metadata": {},
   "outputs": [],
   "source": [
    "import pandas as pd\n",
    "import numpy as np\n",
    "import matplotlib.pyplot as plt"
   ]
  },
  {
   "cell_type": "markdown",
   "metadata": {},
   "source": [
    "# Overview of the Dataset"
   ]
  },
  {
   "cell_type": "code",
   "execution_count": 2,
   "metadata": {},
   "outputs": [
    {
     "name": "stdout",
     "output_type": "stream",
     "text": [
      "<class 'pandas.core.frame.DataFrame'>\n",
      "RangeIndex: 10131 entries, 0 to 10130\n",
      "Data columns (total 22 columns):\n",
      " #   Column            Non-Null Count  Dtype  \n",
      "---  ------            --------------  -----  \n",
      " 0   Unnamed: 0        10131 non-null  object \n",
      " 1   danceability      10127 non-null  float64\n",
      " 2   energy            10127 non-null  float64\n",
      " 3   key               10127 non-null  float64\n",
      " 4   loudness          10127 non-null  float64\n",
      " 5   mode              10127 non-null  float64\n",
      " 6   speechiness       10127 non-null  float64\n",
      " 7   acousticness      10130 non-null  float64\n",
      " 8   instrumentalness  10130 non-null  float64\n",
      " 9   liveness          10130 non-null  float64\n",
      " 10  valence           10130 non-null  float64\n",
      " 11  tempo             10130 non-null  float64\n",
      " 12  type              10130 non-null  object \n",
      " 13  id                10130 non-null  object \n",
      " 14  uri               10130 non-null  object \n",
      " 15  track_href        10130 non-null  object \n",
      " 16  analysis_url      10130 non-null  object \n",
      " 17  duration_ms       10130 non-null  float64\n",
      " 18  time_signature    10130 non-null  float64\n",
      " 19  song_name         10130 non-null  object \n",
      " 20  artist            10104 non-null  object \n",
      " 21  genre             10130 non-null  object \n",
      "dtypes: float64(13), object(9)\n",
      "memory usage: 1.7+ MB\n"
     ]
    }
   ],
   "source": [
    "df = pd.read_csv(r\"..\\raw\\spotifydata.csv\", delimiter=\",\", encoding=\"ISO-8859-1\")\n",
    "df.info()"
   ]
  },
  {
   "cell_type": "code",
   "execution_count": 3,
   "metadata": {},
   "outputs": [
    {
     "data": {
      "text/html": [
       "<div>\n",
       "<style scoped>\n",
       "    .dataframe tbody tr th:only-of-type {\n",
       "        vertical-align: middle;\n",
       "    }\n",
       "\n",
       "    .dataframe tbody tr th {\n",
       "        vertical-align: top;\n",
       "    }\n",
       "\n",
       "    .dataframe thead th {\n",
       "        text-align: right;\n",
       "    }\n",
       "</style>\n",
       "<table border=\"1\" class=\"dataframe\">\n",
       "  <thead>\n",
       "    <tr style=\"text-align: right;\">\n",
       "      <th></th>\n",
       "      <th>Unnamed: 0</th>\n",
       "      <th>danceability</th>\n",
       "      <th>energy</th>\n",
       "      <th>key</th>\n",
       "      <th>loudness</th>\n",
       "      <th>mode</th>\n",
       "      <th>speechiness</th>\n",
       "      <th>acousticness</th>\n",
       "      <th>instrumentalness</th>\n",
       "      <th>liveness</th>\n",
       "      <th>...</th>\n",
       "      <th>type</th>\n",
       "      <th>id</th>\n",
       "      <th>uri</th>\n",
       "      <th>track_href</th>\n",
       "      <th>analysis_url</th>\n",
       "      <th>duration_ms</th>\n",
       "      <th>time_signature</th>\n",
       "      <th>song_name</th>\n",
       "      <th>artist</th>\n",
       "      <th>genre</th>\n",
       "    </tr>\n",
       "  </thead>\n",
       "  <tbody>\n",
       "    <tr>\n",
       "      <th>0</th>\n",
       "      <td>0</td>\n",
       "      <td>0.741</td>\n",
       "      <td>0.739</td>\n",
       "      <td>11.0</td>\n",
       "      <td>-4.627</td>\n",
       "      <td>0.0</td>\n",
       "      <td>0.0386</td>\n",
       "      <td>0.005410</td>\n",
       "      <td>0.026900</td>\n",
       "      <td>0.0496</td>\n",
       "      <td>...</td>\n",
       "      <td>audio_features</td>\n",
       "      <td>0ikuoejgnBNitqFArW6fFk</td>\n",
       "      <td>spotify:track:0ikuoejgnBNitqFArW6fFk</td>\n",
       "      <td>https://api.spotify.com/v1/tracks/0ikuoejgnBNi...</td>\n",
       "      <td>https://api.spotify.com/v1/audio-analysis/0iku...</td>\n",
       "      <td>262857.0</td>\n",
       "      <td>4.0</td>\n",
       "      <td>Dark River - Festival Version</td>\n",
       "      <td>Sebastian Ingrosso</td>\n",
       "      <td>absolute music</td>\n",
       "    </tr>\n",
       "    <tr>\n",
       "      <th>1</th>\n",
       "      <td>1</td>\n",
       "      <td>0.649</td>\n",
       "      <td>0.973</td>\n",
       "      <td>6.0</td>\n",
       "      <td>-4.391</td>\n",
       "      <td>1.0</td>\n",
       "      <td>0.0882</td>\n",
       "      <td>0.000639</td>\n",
       "      <td>0.662000</td>\n",
       "      <td>0.1330</td>\n",
       "      <td>...</td>\n",
       "      <td>audio_features</td>\n",
       "      <td>4nrK0G6pOEuhMxn3hAaava</td>\n",
       "      <td>spotify:track:4nrK0G6pOEuhMxn3hAaava</td>\n",
       "      <td>https://api.spotify.com/v1/tracks/4nrK0G6pOEuh...</td>\n",
       "      <td>https://api.spotify.com/v1/audio-analysis/4nrK...</td>\n",
       "      <td>279375.0</td>\n",
       "      <td>4.0</td>\n",
       "      <td>Derp - Original Mix</td>\n",
       "      <td>Bassjackers</td>\n",
       "      <td>absolute music</td>\n",
       "    </tr>\n",
       "    <tr>\n",
       "      <th>2</th>\n",
       "      <td>2</td>\n",
       "      <td>0.791</td>\n",
       "      <td>0.862</td>\n",
       "      <td>9.0</td>\n",
       "      <td>-3.240</td>\n",
       "      <td>0.0</td>\n",
       "      <td>0.1100</td>\n",
       "      <td>0.037000</td>\n",
       "      <td>0.000022</td>\n",
       "      <td>0.0814</td>\n",
       "      <td>...</td>\n",
       "      <td>audio_features</td>\n",
       "      <td>7ef4DlsgrMEH11cDZd32M6</td>\n",
       "      <td>spotify:track:7ef4DlsgrMEH11cDZd32M6</td>\n",
       "      <td>https://api.spotify.com/v1/tracks/7ef4DlsgrMEH...</td>\n",
       "      <td>https://api.spotify.com/v1/audio-analysis/7ef4...</td>\n",
       "      <td>214847.0</td>\n",
       "      <td>4.0</td>\n",
       "      <td>One Kiss (with Dua Lipa)</td>\n",
       "      <td>Calvin Harris</td>\n",
       "      <td>absolute music</td>\n",
       "    </tr>\n",
       "    <tr>\n",
       "      <th>3</th>\n",
       "      <td>3</td>\n",
       "      <td>0.738</td>\n",
       "      <td>0.861</td>\n",
       "      <td>2.0</td>\n",
       "      <td>-4.141</td>\n",
       "      <td>1.0</td>\n",
       "      <td>0.2370</td>\n",
       "      <td>0.318000</td>\n",
       "      <td>0.001820</td>\n",
       "      <td>0.3250</td>\n",
       "      <td>...</td>\n",
       "      <td>audio_features</td>\n",
       "      <td>0M98PvIvx7vZ8LDpzMw1hB</td>\n",
       "      <td>spotify:track:0M98PvIvx7vZ8LDpzMw1hB</td>\n",
       "      <td>https://api.spotify.com/v1/tracks/0M98PvIvx7vZ...</td>\n",
       "      <td>https://api.spotify.com/v1/audio-analysis/0M98...</td>\n",
       "      <td>189052.0</td>\n",
       "      <td>4.0</td>\n",
       "      <td>Kill This Love</td>\n",
       "      <td>BLACKPINK</td>\n",
       "      <td>absolute music</td>\n",
       "    </tr>\n",
       "    <tr>\n",
       "      <th>4</th>\n",
       "      <td>4</td>\n",
       "      <td>0.647</td>\n",
       "      <td>0.844</td>\n",
       "      <td>0.0</td>\n",
       "      <td>-3.756</td>\n",
       "      <td>1.0</td>\n",
       "      <td>0.0457</td>\n",
       "      <td>0.013700</td>\n",
       "      <td>0.000658</td>\n",
       "      <td>0.1020</td>\n",
       "      <td>...</td>\n",
       "      <td>audio_features</td>\n",
       "      <td>3AzjcOeAmA57TIOr9zF1ZW</td>\n",
       "      <td>spotify:track:3AzjcOeAmA57TIOr9zF1ZW</td>\n",
       "      <td>https://api.spotify.com/v1/tracks/3AzjcOeAmA57...</td>\n",
       "      <td>https://api.spotify.com/v1/audio-analysis/3Azj...</td>\n",
       "      <td>193829.0</td>\n",
       "      <td>4.0</td>\n",
       "      <td>Physical</td>\n",
       "      <td>Dua Lipa</td>\n",
       "      <td>absolute music</td>\n",
       "    </tr>\n",
       "  </tbody>\n",
       "</table>\n",
       "<p>5 rows × 22 columns</p>\n",
       "</div>"
      ],
      "text/plain": [
       "  Unnamed: 0  danceability  energy   key  loudness  mode  speechiness  \\\n",
       "0          0         0.741   0.739  11.0    -4.627   0.0       0.0386   \n",
       "1          1         0.649   0.973   6.0    -4.391   1.0       0.0882   \n",
       "2          2         0.791   0.862   9.0    -3.240   0.0       0.1100   \n",
       "3          3         0.738   0.861   2.0    -4.141   1.0       0.2370   \n",
       "4          4         0.647   0.844   0.0    -3.756   1.0       0.0457   \n",
       "\n",
       "   acousticness  instrumentalness  liveness  ...            type  \\\n",
       "0      0.005410          0.026900    0.0496  ...  audio_features   \n",
       "1      0.000639          0.662000    0.1330  ...  audio_features   \n",
       "2      0.037000          0.000022    0.0814  ...  audio_features   \n",
       "3      0.318000          0.001820    0.3250  ...  audio_features   \n",
       "4      0.013700          0.000658    0.1020  ...  audio_features   \n",
       "\n",
       "                       id                                   uri  \\\n",
       "0  0ikuoejgnBNitqFArW6fFk  spotify:track:0ikuoejgnBNitqFArW6fFk   \n",
       "1  4nrK0G6pOEuhMxn3hAaava  spotify:track:4nrK0G6pOEuhMxn3hAaava   \n",
       "2  7ef4DlsgrMEH11cDZd32M6  spotify:track:7ef4DlsgrMEH11cDZd32M6   \n",
       "3  0M98PvIvx7vZ8LDpzMw1hB  spotify:track:0M98PvIvx7vZ8LDpzMw1hB   \n",
       "4  3AzjcOeAmA57TIOr9zF1ZW  spotify:track:3AzjcOeAmA57TIOr9zF1ZW   \n",
       "\n",
       "                                          track_href  \\\n",
       "0  https://api.spotify.com/v1/tracks/0ikuoejgnBNi...   \n",
       "1  https://api.spotify.com/v1/tracks/4nrK0G6pOEuh...   \n",
       "2  https://api.spotify.com/v1/tracks/7ef4DlsgrMEH...   \n",
       "3  https://api.spotify.com/v1/tracks/0M98PvIvx7vZ...   \n",
       "4  https://api.spotify.com/v1/tracks/3AzjcOeAmA57...   \n",
       "\n",
       "                                        analysis_url duration_ms  \\\n",
       "0  https://api.spotify.com/v1/audio-analysis/0iku...    262857.0   \n",
       "1  https://api.spotify.com/v1/audio-analysis/4nrK...    279375.0   \n",
       "2  https://api.spotify.com/v1/audio-analysis/7ef4...    214847.0   \n",
       "3  https://api.spotify.com/v1/audio-analysis/0M98...    189052.0   \n",
       "4  https://api.spotify.com/v1/audio-analysis/3Azj...    193829.0   \n",
       "\n",
       "  time_signature                      song_name              artist  \\\n",
       "0            4.0  Dark River - Festival Version  Sebastian Ingrosso   \n",
       "1            4.0            Derp - Original Mix         Bassjackers   \n",
       "2            4.0       One Kiss (with Dua Lipa)       Calvin Harris   \n",
       "3            4.0                 Kill This Love           BLACKPINK   \n",
       "4            4.0                       Physical            Dua Lipa   \n",
       "\n",
       "            genre  \n",
       "0  absolute music  \n",
       "1  absolute music  \n",
       "2  absolute music  \n",
       "3  absolute music  \n",
       "4  absolute music  \n",
       "\n",
       "[5 rows x 22 columns]"
      ]
     },
     "execution_count": 3,
     "metadata": {},
     "output_type": "execute_result"
    }
   ],
   "source": [
    "df.head()"
   ]
  },
  {
   "cell_type": "code",
   "execution_count": 4,
   "metadata": {},
   "outputs": [
    {
     "data": {
      "text/html": [
       "<div>\n",
       "<style scoped>\n",
       "    .dataframe tbody tr th:only-of-type {\n",
       "        vertical-align: middle;\n",
       "    }\n",
       "\n",
       "    .dataframe tbody tr th {\n",
       "        vertical-align: top;\n",
       "    }\n",
       "\n",
       "    .dataframe thead th {\n",
       "        text-align: right;\n",
       "    }\n",
       "</style>\n",
       "<table border=\"1\" class=\"dataframe\">\n",
       "  <thead>\n",
       "    <tr style=\"text-align: right;\">\n",
       "      <th></th>\n",
       "      <th>danceability</th>\n",
       "      <th>energy</th>\n",
       "      <th>key</th>\n",
       "      <th>loudness</th>\n",
       "      <th>mode</th>\n",
       "      <th>speechiness</th>\n",
       "      <th>acousticness</th>\n",
       "      <th>instrumentalness</th>\n",
       "      <th>liveness</th>\n",
       "      <th>valence</th>\n",
       "      <th>...</th>\n",
       "      <th>type</th>\n",
       "      <th>id</th>\n",
       "      <th>uri</th>\n",
       "      <th>track_href</th>\n",
       "      <th>analysis_url</th>\n",
       "      <th>duration_ms</th>\n",
       "      <th>time_signature</th>\n",
       "      <th>song_name</th>\n",
       "      <th>artist</th>\n",
       "      <th>genre</th>\n",
       "    </tr>\n",
       "  </thead>\n",
       "  <tbody>\n",
       "    <tr>\n",
       "      <th>0</th>\n",
       "      <td>0.741</td>\n",
       "      <td>0.739</td>\n",
       "      <td>11.0</td>\n",
       "      <td>-4.627</td>\n",
       "      <td>0.0</td>\n",
       "      <td>0.0386</td>\n",
       "      <td>0.005410</td>\n",
       "      <td>0.026900</td>\n",
       "      <td>0.0496</td>\n",
       "      <td>0.425</td>\n",
       "      <td>...</td>\n",
       "      <td>audio_features</td>\n",
       "      <td>0ikuoejgnBNitqFArW6fFk</td>\n",
       "      <td>spotify:track:0ikuoejgnBNitqFArW6fFk</td>\n",
       "      <td>https://api.spotify.com/v1/tracks/0ikuoejgnBNi...</td>\n",
       "      <td>https://api.spotify.com/v1/audio-analysis/0iku...</td>\n",
       "      <td>262857.0</td>\n",
       "      <td>4.0</td>\n",
       "      <td>Dark River - Festival Version</td>\n",
       "      <td>Sebastian Ingrosso</td>\n",
       "      <td>absolute music</td>\n",
       "    </tr>\n",
       "    <tr>\n",
       "      <th>1</th>\n",
       "      <td>0.649</td>\n",
       "      <td>0.973</td>\n",
       "      <td>6.0</td>\n",
       "      <td>-4.391</td>\n",
       "      <td>1.0</td>\n",
       "      <td>0.0882</td>\n",
       "      <td>0.000639</td>\n",
       "      <td>0.662000</td>\n",
       "      <td>0.1330</td>\n",
       "      <td>0.221</td>\n",
       "      <td>...</td>\n",
       "      <td>audio_features</td>\n",
       "      <td>4nrK0G6pOEuhMxn3hAaava</td>\n",
       "      <td>spotify:track:4nrK0G6pOEuhMxn3hAaava</td>\n",
       "      <td>https://api.spotify.com/v1/tracks/4nrK0G6pOEuh...</td>\n",
       "      <td>https://api.spotify.com/v1/audio-analysis/4nrK...</td>\n",
       "      <td>279375.0</td>\n",
       "      <td>4.0</td>\n",
       "      <td>Derp - Original Mix</td>\n",
       "      <td>Bassjackers</td>\n",
       "      <td>absolute music</td>\n",
       "    </tr>\n",
       "    <tr>\n",
       "      <th>2</th>\n",
       "      <td>0.791</td>\n",
       "      <td>0.862</td>\n",
       "      <td>9.0</td>\n",
       "      <td>-3.240</td>\n",
       "      <td>0.0</td>\n",
       "      <td>0.1100</td>\n",
       "      <td>0.037000</td>\n",
       "      <td>0.000022</td>\n",
       "      <td>0.0814</td>\n",
       "      <td>0.592</td>\n",
       "      <td>...</td>\n",
       "      <td>audio_features</td>\n",
       "      <td>7ef4DlsgrMEH11cDZd32M6</td>\n",
       "      <td>spotify:track:7ef4DlsgrMEH11cDZd32M6</td>\n",
       "      <td>https://api.spotify.com/v1/tracks/7ef4DlsgrMEH...</td>\n",
       "      <td>https://api.spotify.com/v1/audio-analysis/7ef4...</td>\n",
       "      <td>214847.0</td>\n",
       "      <td>4.0</td>\n",
       "      <td>One Kiss (with Dua Lipa)</td>\n",
       "      <td>Calvin Harris</td>\n",
       "      <td>absolute music</td>\n",
       "    </tr>\n",
       "    <tr>\n",
       "      <th>3</th>\n",
       "      <td>0.738</td>\n",
       "      <td>0.861</td>\n",
       "      <td>2.0</td>\n",
       "      <td>-4.141</td>\n",
       "      <td>1.0</td>\n",
       "      <td>0.2370</td>\n",
       "      <td>0.318000</td>\n",
       "      <td>0.001820</td>\n",
       "      <td>0.3250</td>\n",
       "      <td>0.580</td>\n",
       "      <td>...</td>\n",
       "      <td>audio_features</td>\n",
       "      <td>0M98PvIvx7vZ8LDpzMw1hB</td>\n",
       "      <td>spotify:track:0M98PvIvx7vZ8LDpzMw1hB</td>\n",
       "      <td>https://api.spotify.com/v1/tracks/0M98PvIvx7vZ...</td>\n",
       "      <td>https://api.spotify.com/v1/audio-analysis/0M98...</td>\n",
       "      <td>189052.0</td>\n",
       "      <td>4.0</td>\n",
       "      <td>Kill This Love</td>\n",
       "      <td>BLACKPINK</td>\n",
       "      <td>absolute music</td>\n",
       "    </tr>\n",
       "    <tr>\n",
       "      <th>4</th>\n",
       "      <td>0.647</td>\n",
       "      <td>0.844</td>\n",
       "      <td>0.0</td>\n",
       "      <td>-3.756</td>\n",
       "      <td>1.0</td>\n",
       "      <td>0.0457</td>\n",
       "      <td>0.013700</td>\n",
       "      <td>0.000658</td>\n",
       "      <td>0.1020</td>\n",
       "      <td>0.746</td>\n",
       "      <td>...</td>\n",
       "      <td>audio_features</td>\n",
       "      <td>3AzjcOeAmA57TIOr9zF1ZW</td>\n",
       "      <td>spotify:track:3AzjcOeAmA57TIOr9zF1ZW</td>\n",
       "      <td>https://api.spotify.com/v1/tracks/3AzjcOeAmA57...</td>\n",
       "      <td>https://api.spotify.com/v1/audio-analysis/3Azj...</td>\n",
       "      <td>193829.0</td>\n",
       "      <td>4.0</td>\n",
       "      <td>Physical</td>\n",
       "      <td>Dua Lipa</td>\n",
       "      <td>absolute music</td>\n",
       "    </tr>\n",
       "  </tbody>\n",
       "</table>\n",
       "<p>5 rows × 21 columns</p>\n",
       "</div>"
      ],
      "text/plain": [
       "   danceability  energy   key  loudness  mode  speechiness  acousticness  \\\n",
       "0         0.741   0.739  11.0    -4.627   0.0       0.0386      0.005410   \n",
       "1         0.649   0.973   6.0    -4.391   1.0       0.0882      0.000639   \n",
       "2         0.791   0.862   9.0    -3.240   0.0       0.1100      0.037000   \n",
       "3         0.738   0.861   2.0    -4.141   1.0       0.2370      0.318000   \n",
       "4         0.647   0.844   0.0    -3.756   1.0       0.0457      0.013700   \n",
       "\n",
       "   instrumentalness  liveness  valence  ...            type  \\\n",
       "0          0.026900    0.0496    0.425  ...  audio_features   \n",
       "1          0.662000    0.1330    0.221  ...  audio_features   \n",
       "2          0.000022    0.0814    0.592  ...  audio_features   \n",
       "3          0.001820    0.3250    0.580  ...  audio_features   \n",
       "4          0.000658    0.1020    0.746  ...  audio_features   \n",
       "\n",
       "                       id                                   uri  \\\n",
       "0  0ikuoejgnBNitqFArW6fFk  spotify:track:0ikuoejgnBNitqFArW6fFk   \n",
       "1  4nrK0G6pOEuhMxn3hAaava  spotify:track:4nrK0G6pOEuhMxn3hAaava   \n",
       "2  7ef4DlsgrMEH11cDZd32M6  spotify:track:7ef4DlsgrMEH11cDZd32M6   \n",
       "3  0M98PvIvx7vZ8LDpzMw1hB  spotify:track:0M98PvIvx7vZ8LDpzMw1hB   \n",
       "4  3AzjcOeAmA57TIOr9zF1ZW  spotify:track:3AzjcOeAmA57TIOr9zF1ZW   \n",
       "\n",
       "                                          track_href  \\\n",
       "0  https://api.spotify.com/v1/tracks/0ikuoejgnBNi...   \n",
       "1  https://api.spotify.com/v1/tracks/4nrK0G6pOEuh...   \n",
       "2  https://api.spotify.com/v1/tracks/7ef4DlsgrMEH...   \n",
       "3  https://api.spotify.com/v1/tracks/0M98PvIvx7vZ...   \n",
       "4  https://api.spotify.com/v1/tracks/3AzjcOeAmA57...   \n",
       "\n",
       "                                        analysis_url duration_ms  \\\n",
       "0  https://api.spotify.com/v1/audio-analysis/0iku...    262857.0   \n",
       "1  https://api.spotify.com/v1/audio-analysis/4nrK...    279375.0   \n",
       "2  https://api.spotify.com/v1/audio-analysis/7ef4...    214847.0   \n",
       "3  https://api.spotify.com/v1/audio-analysis/0M98...    189052.0   \n",
       "4  https://api.spotify.com/v1/audio-analysis/3Azj...    193829.0   \n",
       "\n",
       "   time_signature                      song_name              artist  \\\n",
       "0             4.0  Dark River - Festival Version  Sebastian Ingrosso   \n",
       "1             4.0            Derp - Original Mix         Bassjackers   \n",
       "2             4.0       One Kiss (with Dua Lipa)       Calvin Harris   \n",
       "3             4.0                 Kill This Love           BLACKPINK   \n",
       "4             4.0                       Physical            Dua Lipa   \n",
       "\n",
       "            genre  \n",
       "0  absolute music  \n",
       "1  absolute music  \n",
       "2  absolute music  \n",
       "3  absolute music  \n",
       "4  absolute music  \n",
       "\n",
       "[5 rows x 21 columns]"
      ]
     },
     "execution_count": 4,
     "metadata": {},
     "output_type": "execute_result"
    }
   ],
   "source": [
    "df = df.drop(df.columns[0],axis=1)\n",
    "df.head()"
   ]
  },
  {
   "cell_type": "code",
   "execution_count": 5,
   "metadata": {},
   "outputs": [
    {
     "name": "stdout",
     "output_type": "stream",
     "text": [
      "<class 'pandas.core.frame.DataFrame'>\n",
      "RangeIndex: 10131 entries, 0 to 10130\n",
      "Data columns (total 21 columns):\n",
      " #   Column            Non-Null Count  Dtype  \n",
      "---  ------            --------------  -----  \n",
      " 0   Danceability      10127 non-null  float64\n",
      " 1   Energy            10127 non-null  float64\n",
      " 2   Key               10127 non-null  float64\n",
      " 3   Loudness          10127 non-null  float64\n",
      " 4   Mode              10127 non-null  float64\n",
      " 5   Speechiness       10127 non-null  float64\n",
      " 6   Acousticness      10130 non-null  float64\n",
      " 7   Instrumentalness  10130 non-null  float64\n",
      " 8   Liveness          10130 non-null  float64\n",
      " 9   Valence           10130 non-null  float64\n",
      " 10  Tempo             10130 non-null  float64\n",
      " 11  Type              10130 non-null  object \n",
      " 12  id                10130 non-null  object \n",
      " 13  uri               10130 non-null  object \n",
      " 14  track_href        10130 non-null  object \n",
      " 15  analysis_url      10130 non-null  object \n",
      " 16  Duration (ms)     10130 non-null  float64\n",
      " 17  Time Signature    10130 non-null  float64\n",
      " 18  Song              10130 non-null  object \n",
      " 19  Artist            10104 non-null  object \n",
      " 20  Genre             10130 non-null  object \n",
      "dtypes: float64(13), object(8)\n",
      "memory usage: 1.6+ MB\n"
     ]
    }
   ],
   "source": [
    "df_w = df.rename(columns={\n",
    "    'danceability' : 'Danceability',\n",
    "    'energy' : 'Energy',\n",
    "    'key' : 'Key',\n",
    "    'loudness' : 'Loudness',\n",
    "    'mode' : 'Mode',\n",
    "    'speechiness' : 'Speechiness',\n",
    "    'acousticness' : 'Acousticness',\n",
    "    'instrumentalness' : 'Instrumentalness',\n",
    "    'liveness' : 'Liveness',\n",
    "    'valence' : 'Valence',\n",
    "    'tempo' : 'Tempo',\n",
    "    'type' : 'Type',\n",
    "    'duration_ms' : 'Duration (ms)',\n",
    "    'time_signature' : 'Time Signature',\n",
    "    'song_name' : 'Song',\n",
    "    'artist' : 'Artist',\n",
    "    'genre' : 'Genre'\n",
    "})\n",
    "df_w.info()"
   ]
  },
  {
   "cell_type": "markdown",
   "metadata": {},
   "source": [
    "# Distinct Values"
   ]
  },
  {
   "cell_type": "code",
   "execution_count": 6,
   "metadata": {},
   "outputs": [
    {
     "data": {
      "text/plain": [
       "array(['Sebastian Ingrosso', 'Bassjackers', 'Calvin Harris', ...,\n",
       "       'The Goo Goo Dolls', 'M?go de Oz', 'Joan Osborne'],\n",
       "      shape=(4155,), dtype=object)"
      ]
     },
     "execution_count": 6,
     "metadata": {},
     "output_type": "execute_result"
    }
   ],
   "source": [
    "df_w['Artist'].unique()"
   ]
  },
  {
   "cell_type": "code",
   "execution_count": 7,
   "metadata": {},
   "outputs": [
    {
     "data": {
      "text/plain": [
       "4154"
      ]
     },
     "execution_count": 7,
     "metadata": {},
     "output_type": "execute_result"
    }
   ],
   "source": [
    "df_w['Artist'].nunique()"
   ]
  },
  {
   "cell_type": "code",
   "execution_count": 8,
   "metadata": {},
   "outputs": [
    {
     "data": {
      "text/plain": [
       "array(['absolute music', 'classical', 'electronic', 'folk', 'hiphop',\n",
       "       'jazz', 'popular', 'rnb', 'rock', nan], dtype=object)"
      ]
     },
     "execution_count": 8,
     "metadata": {},
     "output_type": "execute_result"
    }
   ],
   "source": [
    "df_w['Genre'].unique()"
   ]
  },
  {
   "cell_type": "code",
   "execution_count": null,
   "metadata": {},
   "outputs": [
    {
     "data": {
      "text/plain": [
       "9"
      ]
     },
     "execution_count": 9,
     "metadata": {},
     "output_type": "execute_result"
    }
   ],
   "source": [
    "df_w['Genre'].nunique()"
   ]
  },
  {
   "cell_type": "code",
   "execution_count": 10,
   "metadata": {},
   "outputs": [
    {
     "data": {
      "text/plain": [
       "array([ 4.,  5.,  3.,  1.,  0., nan])"
      ]
     },
     "execution_count": 10,
     "metadata": {},
     "output_type": "execute_result"
    }
   ],
   "source": [
    "df_w['Time Signature'].unique()"
   ]
  },
  {
   "cell_type": "code",
   "execution_count": 11,
   "metadata": {},
   "outputs": [
    {
     "data": {
      "text/plain": [
       "5"
      ]
     },
     "execution_count": 11,
     "metadata": {},
     "output_type": "execute_result"
    }
   ],
   "source": [
    "df_w['Time Signature'].nunique()"
   ]
  },
  {
   "cell_type": "code",
   "execution_count": 14,
   "metadata": {},
   "outputs": [
    {
     "data": {
      "text/plain": [
       "array(['Dark River - Festival Version', 'Derp - Original Mix',\n",
       "       'One Kiss (with Dua Lipa)', ..., 'Eyes Without A Face',\n",
       "       'Rebel Yell', nan], shape=(8373,), dtype=object)"
      ]
     },
     "execution_count": 14,
     "metadata": {},
     "output_type": "execute_result"
    }
   ],
   "source": [
    "df_w['Song'].unique()"
   ]
  },
  {
   "cell_type": "code",
   "execution_count": 15,
   "metadata": {},
   "outputs": [
    {
     "data": {
      "text/plain": [
       "8372"
      ]
     },
     "execution_count": 15,
     "metadata": {},
     "output_type": "execute_result"
    }
   ],
   "source": [
    "df_w['Song'].nunique()"
   ]
  },
  {
   "cell_type": "markdown",
   "metadata": {},
   "source": [
    "Data Cleaning Using Lambda Function to Replace NaN Values with Mean of Each Column"
   ]
  },
  {
   "cell_type": "code",
   "execution_count": 16,
   "metadata": {},
   "outputs": [
    {
     "data": {
      "text/plain": [
       "Danceability         4\n",
       "Energy               4\n",
       "Key                  4\n",
       "Loudness             4\n",
       "Mode                 4\n",
       "Speechiness          4\n",
       "Acousticness         1\n",
       "Instrumentalness     1\n",
       "Liveness             1\n",
       "Valence              1\n",
       "Tempo                1\n",
       "Type                 1\n",
       "id                   1\n",
       "uri                  1\n",
       "track_href           1\n",
       "analysis_url         1\n",
       "Duration (ms)        1\n",
       "Time Signature       1\n",
       "Song                 1\n",
       "Artist              27\n",
       "Genre                1\n",
       "dtype: int64"
      ]
     },
     "execution_count": 16,
     "metadata": {},
     "output_type": "execute_result"
    }
   ],
   "source": [
    "df_w.isna().sum()"
   ]
  },
  {
   "cell_type": "code",
   "execution_count": 18,
   "metadata": {},
   "outputs": [
    {
     "data": {
      "text/plain": [
       "Danceability         0\n",
       "Energy               0\n",
       "Key                  0\n",
       "Loudness             0\n",
       "Mode                 0\n",
       "Speechiness          0\n",
       "Acousticness         0\n",
       "Instrumentalness     0\n",
       "Liveness             0\n",
       "Valence              0\n",
       "Tempo                0\n",
       "Type                 1\n",
       "id                   1\n",
       "uri                  1\n",
       "track_href           1\n",
       "analysis_url         1\n",
       "Duration (ms)        0\n",
       "Time Signature       0\n",
       "Song                 1\n",
       "Artist              27\n",
       "Genre                1\n",
       "dtype: int64"
      ]
     },
     "execution_count": 18,
     "metadata": {},
     "output_type": "execute_result"
    }
   ],
   "source": [
    "n_columns = ['Danceability',\n",
    "             'Energy',\n",
    "             'Key',\n",
    "             'Loudness',\n",
    "             'Mode',\n",
    "             'Speechiness',\n",
    "             'Acousticness',\n",
    "             'Instrumentalness',\n",
    "             'Liveness',\n",
    "             'Valence',\n",
    "             'Tempo',\n",
    "             'Duration (ms)',\n",
    "             'Time Signature']\n",
    "\n",
    "df_w[n_columns] = df_w[n_columns].apply(lambda n : n.fillna(n.mean()))\n",
    "df_w.isna().sum()"
   ]
  },
  {
   "cell_type": "code",
   "execution_count": 19,
   "metadata": {},
   "outputs": [
    {
     "name": "stdout",
     "output_type": "stream",
     "text": [
      "<class 'pandas.core.frame.DataFrame'>\n",
      "RangeIndex: 10131 entries, 0 to 10130\n",
      "Data columns (total 21 columns):\n",
      " #   Column            Non-Null Count  Dtype  \n",
      "---  ------            --------------  -----  \n",
      " 0   Danceability      10131 non-null  float64\n",
      " 1   Energy            10131 non-null  float64\n",
      " 2   Key               10131 non-null  float64\n",
      " 3   Loudness          10131 non-null  float64\n",
      " 4   Mode              10131 non-null  float64\n",
      " 5   Speechiness       10131 non-null  float64\n",
      " 6   Acousticness      10131 non-null  float64\n",
      " 7   Instrumentalness  10131 non-null  float64\n",
      " 8   Liveness          10131 non-null  float64\n",
      " 9   Valence           10131 non-null  float64\n",
      " 10  Tempo             10131 non-null  float64\n",
      " 11  Type              10130 non-null  object \n",
      " 12  id                10130 non-null  object \n",
      " 13  uri               10130 non-null  object \n",
      " 14  track_href        10130 non-null  object \n",
      " 15  analysis_url      10130 non-null  object \n",
      " 16  Duration (ms)     10131 non-null  float64\n",
      " 17  Time Signature    10131 non-null  float64\n",
      " 18  Song              10130 non-null  object \n",
      " 19  Artist            10104 non-null  object \n",
      " 20  Genre             10130 non-null  object \n",
      "dtypes: float64(13), object(8)\n",
      "memory usage: 1.6+ MB\n"
     ]
    }
   ],
   "source": [
    "df_w.info()"
   ]
  },
  {
   "cell_type": "markdown",
   "metadata": {},
   "source": [
    "# Saving the Cleaned Dataset"
   ]
  },
  {
   "cell_type": "code",
   "execution_count": 21,
   "metadata": {},
   "outputs": [],
   "source": [
    "df_w.to_csv(r'..\\raw\\spotifydata-cleaned.csv',\n",
    "            index=False)"
   ]
  }
 ],
 "metadata": {
  "kernelspec": {
   "display_name": "Python 3",
   "language": "python",
   "name": "python3"
  },
  "language_info": {
   "codemirror_mode": {
    "name": "ipython",
    "version": 3
   },
   "file_extension": ".py",
   "mimetype": "text/x-python",
   "name": "python",
   "nbconvert_exporter": "python",
   "pygments_lexer": "ipython3",
   "version": "3.13.2"
  }
 },
 "nbformat": 4,
 "nbformat_minor": 2
}
